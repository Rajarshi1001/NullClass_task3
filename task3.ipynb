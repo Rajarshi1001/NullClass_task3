{
 "cells": [
  {
   "cell_type": "markdown",
   "metadata": {},
   "source": [
    "# Importing the nexessary libraries"
   ]
  },
  {
   "cell_type": "code",
   "execution_count": 1,
   "metadata": {},
   "outputs": [],
   "source": [
    "import collections\n",
    "import numpy as np\n",
    "import json\n",
    "import tensorflow.strings as tf_strings\n",
    "from keras.preprocessing.text import tokenizer_from_json\n",
    "\n",
    "from keras.preprocessing.text import Tokenizer\n",
    "from keras.utils import pad_sequences\n",
    "from keras.models import Model, Sequential, load_model\n",
    "from keras.layers import Input, Dense, LSTM, Dropout, Activation, TimeDistributed, TextVectorization\n",
    "from keras.optimizers import Adam\n",
    "from keras.losses import sparse_categorical_crossentropy"
   ]
  },
  {
   "cell_type": "markdown",
   "metadata": {},
   "source": [
    "# Verify Access to GPU"
   ]
  },
  {
   "cell_type": "code",
   "execution_count": 2,
   "metadata": {},
   "outputs": [
    {
     "name": "stdout",
     "output_type": "stream",
     "text": [
      "[name: \"/device:CPU:0\"\n",
      "device_type: \"CPU\"\n",
      "memory_limit: 268435456\n",
      "locality {\n",
      "}\n",
      "incarnation: 6899519954572762795\n",
      "xla_global_id: -1\n",
      ", name: \"/device:GPU:0\"\n",
      "device_type: \"GPU\"\n",
      "memory_limit: 2236245607\n",
      "locality {\n",
      "  bus_id: 1\n",
      "  links {\n",
      "  }\n",
      "}\n",
      "incarnation: 16862718671271133121\n",
      "physical_device_desc: \"device: 0, name: NVIDIA GeForce GTX 1650 Ti, pci bus id: 0000:01:00.0, compute capability: 7.5\"\n",
      "xla_global_id: 416903419\n",
      "]\n"
     ]
    }
   ],
   "source": [
    "from tensorflow.python.client import device_lib\n",
    "print(device_lib.list_local_devices())"
   ]
  },
  {
   "cell_type": "code",
   "execution_count": 3,
   "metadata": {},
   "outputs": [],
   "source": [
    "## loading the tokenizers\n",
    "\n",
    "model_fr = load_model('english_to_french_lstm_model')\n",
    "model_hi = load_model('english_to_hindi_lstm_model')\n",
    "\n",
    "#load Tokenizer\n",
    "with open('english_tokenizer.json') as f:\n",
    "    data = json.load(f)\n",
    "    english_tokenizer = tokenizer_from_json(data)\n",
    "\n",
    "with open('english_tokenizer_hindi.json') as f:\n",
    "    data = json.load(f)\n",
    "    english_tokenizer = tokenizer_from_json(data)\n",
    "    \n",
    "with open('french_tokenizer.json') as f:\n",
    "    data = json.load(f)\n",
    "    french_tokenizer = tokenizer_from_json(data)\n",
    "\n",
    "with open('hindi_tokenizer.json') as f:\n",
    "    data = json.load(f)\n",
    "    hindi_tokenizer = tokenizer_from_json(data)"
   ]
  },
  {
   "cell_type": "code",
   "execution_count": 4,
   "metadata": {},
   "outputs": [],
   "source": [
    "with open('sequence_length.json') as f:\n",
    "    max_length = json.load(f)\n",
    "    \n",
    "def pad(x, length=None):\n",
    "    return pad_sequences(x, maxlen=length, padding='post')\n",
    "\n",
    "def translate_to_french(english_sentence):\n",
    "    english_sentence = english_sentence.lower()\n",
    "    \n",
    "    english_sentence = english_sentence.replace(\".\", '')\n",
    "    english_sentence = english_sentence.replace(\"?\", '')\n",
    "    english_sentence = english_sentence.replace(\"!\", '')\n",
    "    english_sentence = english_sentence.replace(\",\", '')\n",
    "    \n",
    "    english_sentence = english_tokenizer.texts_to_sequences([english_sentence])\n",
    "    english_sentence = pad(english_sentence, max_length)\n",
    "    \n",
    "    english_sentence = english_sentence.reshape((-1,max_length))\n",
    "    \n",
    "    french_sentence = model_fr.predict(english_sentence)[0]\n",
    "    \n",
    "    french_sentence = [np.argmax(word) for word in french_sentence]\n",
    "\n",
    "    french_sentence = french_tokenizer.sequences_to_texts([french_sentence])[0]\n",
    "    \n",
    "    print(\"French translation: \", french_sentence)\n",
    "    \n",
    "    return french_sentence"
   ]
  },
  {
   "cell_type": "code",
   "execution_count": 5,
   "metadata": {},
   "outputs": [],
   "source": [
    "with open('sequence_length_hindi.json') as f:\n",
    "    max_length_hindi = json.load(f)\n",
    "    \n",
    "def pad(x, length=None):\n",
    "    return pad_sequences(x, maxlen=length, padding='post')\n",
    "\n",
    "def translate_to_hindi(english_sentence):\n",
    "    english_sentence = english_sentence.lower()\n",
    "    \n",
    "    english_sentence = english_sentence.replace(\".\", '')\n",
    "    english_sentence = english_sentence.replace(\"?\", '')\n",
    "    english_sentence = english_sentence.replace(\"!\", '')\n",
    "    english_sentence = english_sentence.replace(\",\", '')\n",
    "    \n",
    "    english_sentence = english_tokenizer.texts_to_sequences([english_sentence])\n",
    "    english_sentence = pad(english_sentence, max_length_hindi)\n",
    "    \n",
    "    english_sentence = english_sentence.reshape((-1,max_length_hindi))\n",
    "    \n",
    "    hindi_sentence = model_hi.predict(english_sentence)[0]\n",
    "    \n",
    "    hindi_sentence = [np.argmax(word) for word in hindi_sentence]\n",
    "\n",
    "    hindi_sentence = hindi_tokenizer.sequences_to_texts([hindi_sentence])[0]\n",
    "    \n",
    "    print(\"hindi translation: \", hindi_sentence)\n",
    "    \n",
    "    return hindi_sentence"
   ]
  },
  {
   "cell_type": "markdown",
   "metadata": {},
   "source": [
    "# Dual Translation"
   ]
  },
  {
   "cell_type": "code",
   "execution_count": 7,
   "metadata": {},
   "outputs": [
    {
     "name": "stdout",
     "output_type": "stream",
     "text": [
      "1/1 [==============================] - 5s 5s/step\n",
      "French translation:  elle est est est\n",
      "1/1 [==============================] - 1s 778ms/step\n",
      "hindi translation:  वह के है।\n"
     ]
    }
   ],
   "source": [
    "english_text = input(\"Enter english sentence: \")\n",
    "if len(english_text) != 10:\n",
    "    print(\"Input sentence must be exactly 10 letters.\")\n",
    "else:\n",
    "    translate_to_french(english_text)\n",
    "    translate_to_hindi(english_text)"
   ]
  }
 ],
 "metadata": {
  "kernelspec": {
   "display_name": "nulclass",
   "language": "python",
   "name": "python3"
  },
  "language_info": {
   "codemirror_mode": {
    "name": "ipython",
    "version": 3
   },
   "file_extension": ".py",
   "mimetype": "text/x-python",
   "name": "python",
   "nbconvert_exporter": "python",
   "pygments_lexer": "ipython3",
   "version": "3.9.19"
  }
 },
 "nbformat": 4,
 "nbformat_minor": 2
}
